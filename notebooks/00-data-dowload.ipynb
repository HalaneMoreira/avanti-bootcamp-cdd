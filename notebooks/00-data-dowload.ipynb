{
 "cells": [
  {
   "cell_type": "markdown",
   "id": "819f1213-5321-450c-a328-d3833d602fc2",
   "metadata": {},
   "source": [
    "#### Dicionário de dados"
   ]
  },
  {
   "cell_type": "code",
   "execution_count": 6,
   "id": "c96643c8-58c2-4dca-b682-0627228b9cc3",
   "metadata": {},
   "outputs": [],
   "source": [
    "import pandas as pd"
   ]
  },
  {
   "cell_type": "code",
   "execution_count": 7,
   "id": "45baed9b-9d0b-484c-9b32-d2ec3b391381",
   "metadata": {},
   "outputs": [],
   "source": [
    "df= pd.read_csv(\"../data/raw/penguins.csv\")"
   ]
  },
  {
   "cell_type": "code",
   "execution_count": 8,
   "id": "ff87d064-1f30-44bb-ba41-dd6b7adc6d5b",
   "metadata": {},
   "outputs": [],
   "source": [
    "df= df.to_csv(\"../data/raw/penguins.csv\")"
   ]
  },
  {
   "cell_type": "code",
   "execution_count": 9,
   "id": "4897b3a7-3750-4fd6-8e47-59a0b90ffd02",
   "metadata": {},
   "outputs": [],
   "source": [
    "# Dicionário de dados\n",
    "data_dictionary = pd.DataFrame([\n",
    "     {\n",
    "        \"variavel\":\"species\",\n",
    "        \"descricao\": \"Espécie do pinguim (Adelie, Chinstrap, Gentoo)\",\n",
    "        \"tipo\": \"qualitativa\",\n",
    "        \"subtipo\": \"nominal\"\n",
    "    },\n",
    "     {\n",
    "        \"variavel\":\"island\",\n",
    "        \"descricao\": \"Ilha onde o pinguim foi encontrado (Biscoe, Dream ou Torgersen)\",\n",
    "        \"tipo\": \"qualitativa\",\n",
    "        \"subtipo\": \"nominal\"\n",
    "    },\n",
    "    {\n",
    "        \"variavel\":\"bill_length_mm\",\n",
    "        \"descricao\": \"Comprimento do bico em milímetros\",\n",
    "        \"tipo\": \"quantitativa\",\n",
    "        \"subtipo\": \"contínua\"\n",
    "    },\n",
    "    {\n",
    "        \"variavel\":\"bill_depth_mm\",\n",
    "        \"descricao\": \"Profundidade do bico em milímetros\",\n",
    "        \"tipo\": \"quantitativa\",\n",
    "        \"subtipo\": \"contínua\"\n",
    "    },\n",
    "    {\n",
    "        \"variavel\":\"flipper_length_mm\",\n",
    "        \"descricao\": \"Comprimento da nadadeira em milímetros\",\n",
    "        \"tipo\": \"quantitativa\",\n",
    "        \"subtipo\": \"contínua\"   \n",
    "    },\n",
    "    {\n",
    "        \"variavel\":\"body_mass_g\",\n",
    "        \"descricao\": \"Massa corporal em gramas\",\n",
    "        \"tipo\": \"quantitativa\",\n",
    "        \"subtipo\": \"contínua\"\n",
    "    },\n",
    "     {\n",
    "        \"variavel\":\"sex\",\n",
    "        \"descricao\": \"Sexo do pinguim (Masculino ou Feminino)\",\n",
    "        \"tipo\": \"qualitativa\",\n",
    "        \"subtipo\": \"nominal\"\n",
    "    },\n",
    "    {\n",
    "       \"variavel\":\"year\",\n",
    "       \"descricao\": \"Ano em que os dados foram coletados\",\n",
    "       \"tipo\": \"quantitativa\",\n",
    "       \"subtipo\": \"discreta\"\n",
    "   }\n",
    "    \n",
    "])\n",
    "\n",
    "# Salvar dicionário\n",
    "data_dictionary.to_csv(\"../data/external/dictionary.csv\", index=False)"
   ]
  },
  {
   "cell_type": "code",
   "execution_count": null,
   "id": "d77c41b2-4735-4fa0-be69-1c9436a93b88",
   "metadata": {},
   "outputs": [],
   "source": []
  }
 ],
 "metadata": {
  "kernelspec": {
   "display_name": "Python 3 (ipykernel)",
   "language": "python",
   "name": "python3"
  },
  "language_info": {
   "codemirror_mode": {
    "name": "ipython",
    "version": 3
   },
   "file_extension": ".py",
   "mimetype": "text/x-python",
   "name": "python",
   "nbconvert_exporter": "python",
   "pygments_lexer": "ipython3",
   "version": "3.11.4"
  }
 },
 "nbformat": 4,
 "nbformat_minor": 5
}
