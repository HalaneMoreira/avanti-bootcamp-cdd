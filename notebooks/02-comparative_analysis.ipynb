{
 "cells": [
  {
   "cell_type": "markdown",
   "id": "04f5b9e0-6049-42dd-87a9-657800747fd7",
   "metadata": {},
   "source": [
    "# Análise comparativa de modelos"
   ]
  },
  {
   "cell_type": "code",
   "execution_count": 11,
   "id": "366c0c6b-af70-4f16-b684-5d2beb486e11",
   "metadata": {},
   "outputs": [],
   "source": [
    "# Bibliotecas\n",
    "#Bibliotecas \n",
    "from IPython.display import display, Markdown, HTML\n",
    "import pandas as pd\n",
    "import numpy as np\n",
    "\n",
    "from sklearn.impute import SimpleImputer, KNNImputer\n",
    "from sklearn.pipeline import Pipeline\n",
    "from sklearn.compose import ColumnTransformer\n",
    "from sklearn.preprocessing import OneHotEncoder, OrdinalEncoder, StandardScaler\n",
    "from sklearn.linear_model import LinearRegression"
   ]
  },
  {
   "cell_type": "markdown",
   "id": "ecfab59b-85c4-49b0-8b64-764a65e5bca7",
   "metadata": {},
   "source": [
    "## 1. Obtenção de dados"
   ]
  },
  {
   "cell_type": "code",
   "execution_count": 12,
   "id": "4ab8f3df-f6a4-45bf-acb1-78c278cbfeeb",
   "metadata": {},
   "outputs": [
    {
     "data": {
      "text/html": [
       "<div>\n",
       "<style scoped>\n",
       "    .dataframe tbody tr th:only-of-type {\n",
       "        vertical-align: middle;\n",
       "    }\n",
       "\n",
       "    .dataframe tbody tr th {\n",
       "        vertical-align: top;\n",
       "    }\n",
       "\n",
       "    .dataframe thead th {\n",
       "        text-align: right;\n",
       "    }\n",
       "</style>\n",
       "<table border=\"1\" class=\"dataframe\">\n",
       "  <thead>\n",
       "    <tr style=\"text-align: right;\">\n",
       "      <th></th>\n",
       "      <th>variavel</th>\n",
       "      <th>descricao</th>\n",
       "      <th>tipo</th>\n",
       "      <th>subtipo</th>\n",
       "    </tr>\n",
       "  </thead>\n",
       "  <tbody>\n",
       "    <tr>\n",
       "      <th>0</th>\n",
       "      <td>species</td>\n",
       "      <td>Espécie do pinguim (Adelie, Chinstrap, Gentoo)</td>\n",
       "      <td>qualitativa</td>\n",
       "      <td>nominal</td>\n",
       "    </tr>\n",
       "    <tr>\n",
       "      <th>1</th>\n",
       "      <td>island</td>\n",
       "      <td>Ilha onde o pinguim foi encontrado (Biscoe, Dr...</td>\n",
       "      <td>qualitativa</td>\n",
       "      <td>nominal</td>\n",
       "    </tr>\n",
       "    <tr>\n",
       "      <th>2</th>\n",
       "      <td>bill_length_mm</td>\n",
       "      <td>Comprimento do bico em milímetros</td>\n",
       "      <td>quantitativa</td>\n",
       "      <td>contínua</td>\n",
       "    </tr>\n",
       "    <tr>\n",
       "      <th>3</th>\n",
       "      <td>bill_depth_mm</td>\n",
       "      <td>Profundidade do bico em milímetros</td>\n",
       "      <td>quantitativa</td>\n",
       "      <td>contínua</td>\n",
       "    </tr>\n",
       "    <tr>\n",
       "      <th>4</th>\n",
       "      <td>flipper_length_mm</td>\n",
       "      <td>Comprimento da nadadeira em milímetros</td>\n",
       "      <td>quantitativa</td>\n",
       "      <td>contínua</td>\n",
       "    </tr>\n",
       "    <tr>\n",
       "      <th>5</th>\n",
       "      <td>body_mass_g</td>\n",
       "      <td>Massa corporal em gramas</td>\n",
       "      <td>quantitativa</td>\n",
       "      <td>contínua</td>\n",
       "    </tr>\n",
       "    <tr>\n",
       "      <th>6</th>\n",
       "      <td>sex</td>\n",
       "      <td>Sexo do pinguim (Masculino ou Feminino)</td>\n",
       "      <td>qualitativa</td>\n",
       "      <td>nominal</td>\n",
       "    </tr>\n",
       "    <tr>\n",
       "      <th>7</th>\n",
       "      <td>year</td>\n",
       "      <td>Ano em que os dados foram coletados</td>\n",
       "      <td>quantitativa</td>\n",
       "      <td>discreta</td>\n",
       "    </tr>\n",
       "  </tbody>\n",
       "</table>\n",
       "</div>"
      ],
      "text/plain": [
       "            variavel                                          descricao  \\\n",
       "0            species     Espécie do pinguim (Adelie, Chinstrap, Gentoo)   \n",
       "1             island  Ilha onde o pinguim foi encontrado (Biscoe, Dr...   \n",
       "2     bill_length_mm                  Comprimento do bico em milímetros   \n",
       "3      bill_depth_mm                 Profundidade do bico em milímetros   \n",
       "4  flipper_length_mm             Comprimento da nadadeira em milímetros   \n",
       "5        body_mass_g                           Massa corporal em gramas   \n",
       "6                sex            Sexo do pinguim (Masculino ou Feminino)   \n",
       "7               year                Ano em que os dados foram coletados   \n",
       "\n",
       "           tipo   subtipo  \n",
       "0   qualitativa   nominal  \n",
       "1   qualitativa   nominal  \n",
       "2  quantitativa  contínua  \n",
       "3  quantitativa  contínua  \n",
       "4  quantitativa  contínua  \n",
       "5  quantitativa  contínua  \n",
       "6   qualitativa   nominal  \n",
       "7  quantitativa  discreta  "
      ]
     },
     "execution_count": 12,
     "metadata": {},
     "output_type": "execute_result"
    }
   ],
   "source": [
    "#Dicionário de dados\n",
    "df = pd.read_csv(\"../data/raw/penguins.csv\")\n",
    "df_dict = pd.read_csv(\"../data/external/dictionary.csv\")\n",
    "df_dict"
   ]
  },
  {
   "cell_type": "markdown",
   "id": "f7fdba5a-ae7f-4a3e-892d-ef7c745bd074",
   "metadata": {},
   "source": [
    "# 2. Preparação de dados "
   ]
  },
  {
   "cell_type": "code",
   "execution_count": 13,
   "id": "73d06784-447a-4880-9dc6-2a8b9397c796",
   "metadata": {},
   "outputs": [],
   "source": [
    "#Variável-alvo \n",
    "target_variable = \"species\"\n",
    "\n",
    "#Variável Nominais\n",
    "nominal_variables=(\n",
    "    df_dict\n",
    "    .query(\"subtipo == 'Nominal' and variavel != @target_variable \")\n",
    "    .variavel\n",
    "    .to_list()\n",
    ")\n",
    "\n",
    "#Variável Contínuas\n",
    "continuous_variables=(\n",
    "    df_dict\n",
    "    .query(\"subtipo == 'Contínua' and variavel != @target_variable \")\n",
    "    .variavel\n",
    "    .to_list()\n",
    ")\n",
    "\n",
    "#Variável discreta\n",
    "discrete_variables=(\n",
    "    df_dict\n",
    "    .query(\"subtipo == 'Discreta' and variavel != @target_variable \")\n",
    "    .variavel\n",
    "    .to_list()\n",
    ")\n",
    "\n",
    "X = df.drop(columns=[target_variable],axis=1)\n",
    "y = df[target_variable]"
   ]
  },
  {
   "cell_type": "markdown",
   "id": "a7576b7c-ba38-4e32-b0d9-ddd254616651",
   "metadata": {},
   "source": [
    "# 2. Pipeline de Pré-processamento de dados"
   ]
  },
  {
   "cell_type": "code",
   "execution_count": 14,
   "id": "71b3d042-0281-4fa5-81a7-721fc05d7be2",
   "metadata": {},
   "outputs": [],
   "source": [
    "#Pipeline para variáveis nominais \n",
    "nominal_preprocessor = Pipeline(steps=[\n",
    "    (\"missing\", SimpleImputer(strategy='most_frequent')),\n",
    "    (\"encoding\", OneHotEncoder(sparse_output=False)),\n",
    "])\n",
    "#Pipeline para variáveis contínuas\n",
    "continuous_preprocessor = Pipeline(steps=[\n",
    "    (\"missing\", SimpleImputer(strategy='mean')),\n",
    "    (\"normalization\", StandardScaler()),\n",
    "])\n",
    "\n",
    "#Pipeline para variáveis discreta\n",
    "discrete_preprocessor= Pipeline(steps=[\n",
    "    (\"missing\", KNNImputer()),\n",
    "    (\"normalization\", StandardScaler()),\n",
    "])"
   ]
  },
  {
   "cell_type": "code",
   "execution_count": 15,
   "id": "9b99ab86-ae3f-422e-ba20-654e78af6b1a",
   "metadata": {},
   "outputs": [],
   "source": [
    "## Criação do ColumnTransformer para processar cada tipo de variável\n",
    "preprocessor= ColumnTransformer([\n",
    "    (\"nominal\", nominal_preprocessor, nominal_variables),\n",
    "    (\"continuous\", continuous_preprocessor, continuous_variables),\n",
    "    (\"discrete\", discrete_preprocessor, discrete_variables),\n",
    "    \n",
    "])"
   ]
  },
  {
   "cell_type": "code",
   "execution_count": null,
   "id": "cf553032-4f83-471e-b7b4-347ef108beb5",
   "metadata": {},
   "outputs": [],
   "source": []
  },
  {
   "cell_type": "code",
   "execution_count": null,
   "id": "ea1eaf18-c57e-45f8-90a0-5dcfa2a20482",
   "metadata": {},
   "outputs": [],
   "source": []
  }
 ],
 "metadata": {
  "kernelspec": {
   "display_name": "Python 3 (ipykernel)",
   "language": "python",
   "name": "python3"
  },
  "language_info": {
   "codemirror_mode": {
    "name": "ipython",
    "version": 3
   },
   "file_extension": ".py",
   "mimetype": "text/x-python",
   "name": "python",
   "nbconvert_exporter": "python",
   "pygments_lexer": "ipython3",
   "version": "3.11.4"
  }
 },
 "nbformat": 4,
 "nbformat_minor": 5
}
